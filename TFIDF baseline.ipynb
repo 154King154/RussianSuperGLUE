{
 "cells": [
  {
   "cell_type": "markdown",
   "metadata": {},
   "source": [
    "Note, that you will obtain a error on test set :)"
   ]
  },
  {
   "cell_type": "code",
   "execution_count": 1,
   "metadata": {},
   "outputs": [],
   "source": [
    "%load_ext autoreload\n",
    "\n",
    "%autoreload 2\n",
    "\n",
    "\n",
    "import warnings\n",
    "\n",
    "\n",
    "warnings.filterwarnings('ignore')"
   ]
  },
  {
   "cell_type": "markdown",
   "metadata": {},
   "source": [
    "### Load tfidf model"
   ]
  },
  {
   "cell_type": "code",
   "execution_count": 2,
   "metadata": {},
   "outputs": [],
   "source": [
    "import pickle\n",
    "import codecs\n",
    "import joblib"
   ]
  },
  {
   "cell_type": "code",
   "execution_count": 3,
   "metadata": {},
   "outputs": [],
   "source": [
    "vect = joblib.load(\"ruentfidf/tfidf.pkl\")"
   ]
  },
  {
   "cell_type": "markdown",
   "metadata": {},
   "source": [
    "### Load data"
   ]
  },
  {
   "cell_type": "code",
   "execution_count": null,
   "metadata": {},
   "outputs": [],
   "source": [
    "!wget https://russiansuperglue.com/tasks/download\n",
    "!unzip download\n",
    "!rm download"
   ]
  },
  {
   "cell_type": "code",
   "execution_count": 6,
   "metadata": {},
   "outputs": [],
   "source": [
    "from pathlib import Path"
   ]
  },
  {
   "cell_type": "code",
   "execution_count": 7,
   "metadata": {},
   "outputs": [],
   "source": [
    "data_dir = Path(\"combined/\")"
   ]
  },
  {
   "cell_type": "code",
   "execution_count": 8,
   "metadata": {},
   "outputs": [],
   "source": [
    "all_results = {\n",
    "    \"name\": [],\n",
    "    \"train\": [],\n",
    "    \"val\": [],\n",
    "    \"test\": []\n",
    "}"
   ]
  },
  {
   "cell_type": "markdown",
   "metadata": {},
   "source": [
    "### PARus\n",
    "\n",
    "1. build text: \"{premise} {question} {choice1} {choice2}\"\n",
    "2. get tfidf\n",
    "3. fit logreg\n"
   ]
  },
  {
   "cell_type": "code",
   "execution_count": 9,
   "metadata": {},
   "outputs": [],
   "source": [
    "train_path = data_dir / \"PARus/train.jsonl\"\n",
    "val_path = data_dir / \"PARus/val.jsonl\"\n",
    "test_path = data_dir / \"PARus/test.jsonl\""
   ]
  },
  {
   "cell_type": "code",
   "execution_count": 10,
   "metadata": {},
   "outputs": [],
   "source": [
    "from tfidf_baseline.PARus import eval_PARus"
   ]
  },
  {
   "cell_type": "code",
   "execution_count": 11,
   "metadata": {},
   "outputs": [],
   "source": [
    "_, PARus_scores = eval_PARus(train_path, val_path, test_path, vect)"
   ]
  },
  {
   "cell_type": "code",
   "execution_count": 12,
   "metadata": {},
   "outputs": [
    {
     "data": {
      "text/plain": [
       "{'train': 0.775, 'val': 0.45, 'test': 0.486}"
      ]
     },
     "execution_count": 12,
     "metadata": {},
     "output_type": "execute_result"
    }
   ],
   "source": [
    "PARus_scores"
   ]
  },
  {
   "cell_type": "code",
   "execution_count": 13,
   "metadata": {},
   "outputs": [],
   "source": [
    "all_results[\"name\"].append(\"PARus\")\n",
    "all_results[\"train\"].append(PARus_scores[\"train\"])\n",
    "all_results[\"val\"].append(PARus_scores[\"val\"])\n",
    "all_results[\"test\"].append(PARus_scores[\"test\"])"
   ]
  },
  {
   "cell_type": "markdown",
   "metadata": {},
   "source": [
    "### RCB\n",
    "1. build text: \"{premise} {hypothesis}\"\n",
    "2. get tfidf\n",
    "3. fit logreg"
   ]
  },
  {
   "cell_type": "code",
   "execution_count": 14,
   "metadata": {},
   "outputs": [],
   "source": [
    "train_path = data_dir / \"RCB/train.jsonl\"\n",
    "val_path = data_dir / \"RCB/val.jsonl\"\n",
    "test_path = data_dir / \"RCB/test.jsonl\""
   ]
  },
  {
   "cell_type": "code",
   "execution_count": 15,
   "metadata": {},
   "outputs": [],
   "source": [
    "from tfidf_baseline.RCB import eval_RCB"
   ]
  },
  {
   "cell_type": "code",
   "execution_count": 16,
   "metadata": {},
   "outputs": [],
   "source": [
    "_, RCB_scores = eval_RCB(train_path, val_path, test_path, vect)"
   ]
  },
  {
   "cell_type": "code",
   "execution_count": 17,
   "metadata": {},
   "outputs": [
    {
     "data": {
      "text/plain": [
       "{'train': 0.7420091324200914,\n",
       " 'val': 0.5227272727272727,\n",
       " 'test': 0.4520547945205479}"
      ]
     },
     "execution_count": 17,
     "metadata": {},
     "output_type": "execute_result"
    }
   ],
   "source": [
    "RCB_scores"
   ]
  },
  {
   "cell_type": "code",
   "execution_count": 18,
   "metadata": {},
   "outputs": [],
   "source": [
    "all_results[\"name\"].append(\"RCB\")\n",
    "all_results[\"train\"].append(RCB_scores[\"train\"])\n",
    "all_results[\"val\"].append(RCB_scores[\"val\"])\n",
    "all_results[\"test\"].append(RCB_scores[\"test\"])"
   ]
  },
  {
   "cell_type": "markdown",
   "metadata": {},
   "source": [
    "### DaNetQA\n",
    "1. build text: \"{question}\"\n",
    "2. get tfidf\n",
    "3. fit logreg"
   ]
  },
  {
   "cell_type": "code",
   "execution_count": 19,
   "metadata": {},
   "outputs": [],
   "source": [
    "train_path = data_dir / \"DaNetQA/train.jsonl\"\n",
    "val_path = data_dir / \"DaNetQA/val.jsonl\"\n",
    "test_path = data_dir / \"DaNetQA/test.jsonl\""
   ]
  },
  {
   "cell_type": "code",
   "execution_count": 20,
   "metadata": {},
   "outputs": [],
   "source": [
    "from tfidf_baseline.DaNetQA import eval_DaNetQA"
   ]
  },
  {
   "cell_type": "code",
   "execution_count": 21,
   "metadata": {},
   "outputs": [],
   "source": [
    "_, DaNetQA_scores = eval_DaNetQA(train_path, val_path, test_path, vect)"
   ]
  },
  {
   "cell_type": "code",
   "execution_count": 22,
   "metadata": {},
   "outputs": [
    {
     "data": {
      "text/plain": [
       "{'train': 0.7321428571428571,\n",
       " 'val': 0.6644067796610169,\n",
       " 'test': 0.6847457627118644}"
      ]
     },
     "execution_count": 22,
     "metadata": {},
     "output_type": "execute_result"
    }
   ],
   "source": [
    "DaNetQA_scores"
   ]
  },
  {
   "cell_type": "code",
   "execution_count": 23,
   "metadata": {},
   "outputs": [],
   "source": [
    "all_results[\"name\"].append(\"DaNetQA\")\n",
    "all_results[\"train\"].append(DaNetQA_scores[\"train\"])\n",
    "all_results[\"val\"].append(DaNetQA_scores[\"val\"])\n",
    "all_results[\"test\"].append(DaNetQA_scores[\"test\"])"
   ]
  },
  {
   "cell_type": "markdown",
   "metadata": {},
   "source": [
    "### TERRa\n",
    "1. build text: \"{premise} {hypothesis}\"\n",
    "2. get tfidf\n",
    "3. fit logreg\n"
   ]
  },
  {
   "cell_type": "code",
   "execution_count": 24,
   "metadata": {},
   "outputs": [],
   "source": [
    "train_path = data_dir / \"TERRA/train.jsonl\"\n",
    "val_path = data_dir / \"TERRA/val.jsonl\"\n",
    "test_path = data_dir / \"TERRA/test.jsonl\""
   ]
  },
  {
   "cell_type": "code",
   "execution_count": 25,
   "metadata": {},
   "outputs": [],
   "source": [
    "from tfidf_baseline.TERRa import eval_TERRa"
   ]
  },
  {
   "cell_type": "code",
   "execution_count": 26,
   "metadata": {},
   "outputs": [],
   "source": [
    "_, TERRa_scores = eval_TERRa(train_path, val_path, test_path, vect)"
   ]
  },
  {
   "cell_type": "code",
   "execution_count": 27,
   "metadata": {},
   "outputs": [
    {
     "data": {
      "text/plain": [
       "{'train': 0.7152140672782875,\n",
       " 'val': 0.46579804560260585,\n",
       " 'test': 0.4715447154471545}"
      ]
     },
     "execution_count": 27,
     "metadata": {},
     "output_type": "execute_result"
    }
   ],
   "source": [
    "TERRa_scores"
   ]
  },
  {
   "cell_type": "code",
   "execution_count": 28,
   "metadata": {},
   "outputs": [],
   "source": [
    "all_results[\"name\"].append(\"TERRa\")\n",
    "all_results[\"train\"].append(TERRa_scores[\"train\"])\n",
    "all_results[\"val\"].append(TERRa_scores[\"val\"])\n",
    "all_results[\"test\"].append(TERRa_scores[\"test\"])"
   ]
  },
  {
   "cell_type": "markdown",
   "metadata": {},
   "source": [
    "### RWSD\n",
    "1. build text: \"{premise} {span1} {span2}\"\n",
    "2. get tfidf\n",
    "3. fit logreg\n"
   ]
  },
  {
   "cell_type": "code",
   "execution_count": 29,
   "metadata": {},
   "outputs": [],
   "source": [
    "train_path = data_dir / \"RWSD/train.jsonl\"\n",
    "val_path = data_dir / \"RWSD/val.jsonl\"\n",
    "test_path = data_dir / \"RWSD/test.jsonl\""
   ]
  },
  {
   "cell_type": "code",
   "execution_count": 30,
   "metadata": {},
   "outputs": [],
   "source": [
    "from tfidf_baseline.RWSD import eval_RWSD"
   ]
  },
  {
   "cell_type": "code",
   "execution_count": 31,
   "metadata": {},
   "outputs": [],
   "source": [
    "_, RWSD_scores = eval_RWSD(train_path, val_path, test_path, vect)"
   ]
  },
  {
   "cell_type": "code",
   "execution_count": 32,
   "metadata": {},
   "outputs": [
    {
     "data": {
      "text/plain": [
       "{'train': 0.5115511551155115,\n",
       " 'val': 0.553921568627451,\n",
       " 'test': 0.6623376623376623}"
      ]
     },
     "execution_count": 32,
     "metadata": {},
     "output_type": "execute_result"
    }
   ],
   "source": [
    "RWSD_scores"
   ]
  },
  {
   "cell_type": "code",
   "execution_count": 33,
   "metadata": {},
   "outputs": [],
   "source": [
    "all_results[\"name\"].append(\"RWSD\")\n",
    "all_results[\"train\"].append(RWSD_scores[\"train\"])\n",
    "all_results[\"val\"].append(RWSD_scores[\"val\"])\n",
    "all_results[\"test\"].append(RWSD_scores[\"test\"])"
   ]
  },
  {
   "cell_type": "markdown",
   "metadata": {},
   "source": [
    "### RUSSE\n",
    "1. build text: \"{sentence1} {sentence2} {word}\"\n",
    "2. get tfidf\n",
    "3. fit logreg"
   ]
  },
  {
   "cell_type": "code",
   "execution_count": 34,
   "metadata": {},
   "outputs": [],
   "source": [
    "train_path = data_dir / \"RUSSE/train.jsonl\"\n",
    "val_path = data_dir / \"RUSSE/val.jsonl\"\n",
    "test_path = data_dir / \"RUSSE/test.jsonl\""
   ]
  },
  {
   "cell_type": "code",
   "execution_count": 35,
   "metadata": {},
   "outputs": [],
   "source": [
    "from tfidf_baseline.RUSSE import eval_RUSSE"
   ]
  },
  {
   "cell_type": "code",
   "execution_count": 36,
   "metadata": {},
   "outputs": [],
   "source": [
    "_, RUSSE_scores = eval_RUSSE(train_path, val_path, test_path, vect)"
   ]
  },
  {
   "cell_type": "code",
   "execution_count": 37,
   "metadata": {},
   "outputs": [
    {
     "data": {
      "text/plain": [
       "{'train': 0.7103552532123961,\n",
       " 'val': 0.6653733098177542,\n",
       " 'test': 0.6694922228623159}"
      ]
     },
     "execution_count": 37,
     "metadata": {},
     "output_type": "execute_result"
    }
   ],
   "source": [
    "RUSSE_scores"
   ]
  },
  {
   "cell_type": "code",
   "execution_count": 38,
   "metadata": {},
   "outputs": [],
   "source": [
    "all_results[\"name\"].append(\"RUSSE\")\n",
    "all_results[\"train\"].append(RUSSE_scores[\"train\"])\n",
    "all_results[\"val\"].append(RUSSE_scores[\"val\"])\n",
    "all_results[\"test\"].append(RUSSE_scores[\"test\"])"
   ]
  },
  {
   "cell_type": "markdown",
   "metadata": {},
   "source": [
    "### LiDiRus\n",
    "1. build text: \"{sentence1} {sentence2}\"\n",
    "2. get tfidf\n",
    "3. fit logreg"
   ]
  },
  {
   "cell_type": "code",
   "execution_count": 39,
   "metadata": {},
   "outputs": [],
   "source": [
    "train_path = data_dir / \"TERRA/train.jsonl\"\n",
    "val_path = data_dir / \"TERRA/val.jsonl\"\n",
    "test_path = data_dir / \"LiDiRus/LiDiRuS.jsonl\""
   ]
  },
  {
   "cell_type": "code",
   "execution_count": 40,
   "metadata": {},
   "outputs": [],
   "source": [
    "from tfidf_baseline.LiDiRus import eval_LiDiRus"
   ]
  },
  {
   "cell_type": "code",
   "execution_count": 41,
   "metadata": {},
   "outputs": [],
   "source": [
    "_, LiDiRus_scores = eval_LiDiRus(train_path, val_path, test_path, vect)"
   ]
  },
  {
   "cell_type": "code",
   "execution_count": 42,
   "metadata": {},
   "outputs": [
    {
     "data": {
      "text/plain": [
       "{'train': 0.4294719661883857,\n",
       " 'val': -0.06835232958984723,\n",
       " 'test': 0.05974021843803689}"
      ]
     },
     "execution_count": 42,
     "metadata": {},
     "output_type": "execute_result"
    }
   ],
   "source": [
    "LiDiRus_scores"
   ]
  },
  {
   "cell_type": "code",
   "execution_count": 43,
   "metadata": {},
   "outputs": [],
   "source": [
    "all_results[\"name\"].append(\"LiDiRus\")\n",
    "all_results[\"train\"].append(LiDiRus_scores[\"train\"])\n",
    "all_results[\"val\"].append(LiDiRus_scores[\"val\"])\n",
    "all_results[\"test\"].append(LiDiRus_scores[\"test\"])"
   ]
  },
  {
   "cell_type": "markdown",
   "metadata": {},
   "source": [
    "### RuCoS\n",
    "1. build text of passage and queries\n",
    "2. get tfidf of passage and queries\n",
    "3. calculate cosins between passage and queries\n",
    "4. select best by cosin metric"
   ]
  },
  {
   "cell_type": "code",
   "execution_count": 44,
   "metadata": {},
   "outputs": [],
   "source": [
    "train_path = data_dir / \"RuCoS/train.jsonl\"\n",
    "val_path = data_dir / \"RuCoS/dev.jsonl\"\n",
    "test_path = data_dir / \"RuCoS/test.jsonl\""
   ]
  },
  {
   "cell_type": "code",
   "execution_count": 45,
   "metadata": {},
   "outputs": [],
   "source": [
    "from tfidf_baseline.RuCoS import eval_RuCoS"
   ]
  },
  {
   "cell_type": "code",
   "execution_count": 46,
   "metadata": {},
   "outputs": [],
   "source": [
    "_, RuCoS_scores = eval_RuCoS(train_path, val_path, test_path, vect)"
   ]
  },
  {
   "cell_type": "code",
   "execution_count": 47,
   "metadata": {},
   "outputs": [
    {
     "data": {
      "text/plain": [
       "{'train': (0.20824733699943207, 0.2263773335525391),\n",
       " 'val': (0.22951036030091065, 0.23539879459768612),\n",
       " 'test': (0.25151598676957, 0.2564189898671709)}"
      ]
     },
     "execution_count": 47,
     "metadata": {},
     "output_type": "execute_result"
    }
   ],
   "source": [
    "RuCoS_scores"
   ]
  },
  {
   "cell_type": "code",
   "execution_count": 48,
   "metadata": {},
   "outputs": [],
   "source": [
    "all_results[\"name\"].append(\"RuCoS\")\n",
    "all_results[\"train\"].append(RuCoS_scores[\"train\"])\n",
    "all_results[\"val\"].append(RuCoS_scores[\"val\"])\n",
    "all_results[\"test\"].append(RuCoS_scores[\"test\"])"
   ]
  },
  {
   "cell_type": "markdown",
   "metadata": {},
   "source": [
    "### MuSeRC\n",
    "1. build text of passage and queries\n",
    "2. get tfidf of passage and queries\n",
    "3. calculate cosins between passage and queries\n",
    "4. select best 2 by cosin metric"
   ]
  },
  {
   "cell_type": "code",
   "execution_count": 55,
   "metadata": {},
   "outputs": [],
   "source": [
    "train_path = data_dir / \"MuSeRC/train.jsonl\"\n",
    "val_path = data_dir / \"MuSeRC/val.jsonl\"\n",
    "test_path = data_dir / \"MuSeRC/test.jsonl\""
   ]
  },
  {
   "cell_type": "code",
   "execution_count": 56,
   "metadata": {},
   "outputs": [],
   "source": [
    "from tfidf_baseline.MuSeRC import eval_MuSeRC"
   ]
  },
  {
   "cell_type": "code",
   "execution_count": 57,
   "metadata": {},
   "outputs": [],
   "source": [
    "_, MuSeRC_scores = eval_MuSeRC(train_path, val_path, test_path, vect)"
   ]
  },
  {
   "cell_type": "code",
   "execution_count": 58,
   "metadata": {},
   "outputs": [
    {
     "data": {
      "text/plain": [
       "{'train': (0.2140077821011673, 0.5475732090384031),\n",
       " 'val': (0.20982986767485823, 0.5207215992198928),\n",
       " 'test': (0.24434638720353005, 0.5895127875410773)}"
      ]
     },
     "execution_count": 58,
     "metadata": {},
     "output_type": "execute_result"
    }
   ],
   "source": [
    "MuSeRC_scores"
   ]
  },
  {
   "cell_type": "code",
   "execution_count": 59,
   "metadata": {},
   "outputs": [],
   "source": [
    "all_results[\"name\"].append(\"MuSeRC\")\n",
    "all_results[\"train\"].append(MuSeRC_scores[\"train\"])\n",
    "all_results[\"val\"].append(MuSeRC_scores[\"val\"])\n",
    "all_results[\"test\"].append(MuSeRC_scores[\"test\"])"
   ]
  },
  {
   "cell_type": "markdown",
   "metadata": {},
   "source": [
    "### Over All"
   ]
  },
  {
   "cell_type": "code",
   "execution_count": 68,
   "metadata": {},
   "outputs": [],
   "source": [
    "import pandas as pd"
   ]
  },
  {
   "cell_type": "code",
   "execution_count": 69,
   "metadata": {},
   "outputs": [],
   "source": [
    "results = pd.DataFrame(all_results)"
   ]
  },
  {
   "cell_type": "code",
   "execution_count": 70,
   "metadata": {},
   "outputs": [
    {
     "data": {
      "text/html": [
       "<div>\n",
       "<style scoped>\n",
       "    .dataframe tbody tr th:only-of-type {\n",
       "        vertical-align: middle;\n",
       "    }\n",
       "\n",
       "    .dataframe tbody tr th {\n",
       "        vertical-align: top;\n",
       "    }\n",
       "\n",
       "    .dataframe thead th {\n",
       "        text-align: right;\n",
       "    }\n",
       "</style>\n",
       "<table border=\"1\" class=\"dataframe\">\n",
       "  <thead>\n",
       "    <tr style=\"text-align: right;\">\n",
       "      <th></th>\n",
       "      <th>name</th>\n",
       "      <th>train</th>\n",
       "      <th>val</th>\n",
       "      <th>test</th>\n",
       "    </tr>\n",
       "  </thead>\n",
       "  <tbody>\n",
       "    <tr>\n",
       "      <th>0</th>\n",
       "      <td>PARus</td>\n",
       "      <td>0.775</td>\n",
       "      <td>0.45</td>\n",
       "      <td>0.486</td>\n",
       "    </tr>\n",
       "    <tr>\n",
       "      <th>1</th>\n",
       "      <td>RCB</td>\n",
       "      <td>0.742009</td>\n",
       "      <td>0.522727</td>\n",
       "      <td>0.452055</td>\n",
       "    </tr>\n",
       "    <tr>\n",
       "      <th>2</th>\n",
       "      <td>DaNetQA</td>\n",
       "      <td>0.732143</td>\n",
       "      <td>0.664407</td>\n",
       "      <td>0.684746</td>\n",
       "    </tr>\n",
       "    <tr>\n",
       "      <th>3</th>\n",
       "      <td>TERRa</td>\n",
       "      <td>0.715214</td>\n",
       "      <td>0.465798</td>\n",
       "      <td>0.471545</td>\n",
       "    </tr>\n",
       "    <tr>\n",
       "      <th>4</th>\n",
       "      <td>RWSD</td>\n",
       "      <td>0.511551</td>\n",
       "      <td>0.553922</td>\n",
       "      <td>0.662338</td>\n",
       "    </tr>\n",
       "    <tr>\n",
       "      <th>5</th>\n",
       "      <td>RUSSE</td>\n",
       "      <td>0.710355</td>\n",
       "      <td>0.665373</td>\n",
       "      <td>0.669492</td>\n",
       "    </tr>\n",
       "    <tr>\n",
       "      <th>6</th>\n",
       "      <td>LiDiRus</td>\n",
       "      <td>0.429472</td>\n",
       "      <td>-0.0683523</td>\n",
       "      <td>0.0597402</td>\n",
       "    </tr>\n",
       "    <tr>\n",
       "      <th>7</th>\n",
       "      <td>RuCoS</td>\n",
       "      <td>(0.20824733699943207, 0.2263773335525391)</td>\n",
       "      <td>(0.22951036030091065, 0.23539879459768612)</td>\n",
       "      <td>(0.25151598676957, 0.2564189898671709)</td>\n",
       "    </tr>\n",
       "    <tr>\n",
       "      <th>8</th>\n",
       "      <td>MuSeRC</td>\n",
       "      <td>(0.2140077821011673, 0.5475732090384031)</td>\n",
       "      <td>(0.20982986767485823, 0.5207215992198928)</td>\n",
       "      <td>(0.24434638720353005, 0.5895127875410773)</td>\n",
       "    </tr>\n",
       "  </tbody>\n",
       "</table>\n",
       "</div>"
      ],
      "text/plain": [
       "      name                                      train  \\\n",
       "0    PARus                                      0.775   \n",
       "1      RCB                                   0.742009   \n",
       "2  DaNetQA                                   0.732143   \n",
       "3    TERRa                                   0.715214   \n",
       "4     RWSD                                   0.511551   \n",
       "5    RUSSE                                   0.710355   \n",
       "6  LiDiRus                                   0.429472   \n",
       "7    RuCoS  (0.20824733699943207, 0.2263773335525391)   \n",
       "8   MuSeRC   (0.2140077821011673, 0.5475732090384031)   \n",
       "\n",
       "                                          val  \\\n",
       "0                                        0.45   \n",
       "1                                    0.522727   \n",
       "2                                    0.664407   \n",
       "3                                    0.465798   \n",
       "4                                    0.553922   \n",
       "5                                    0.665373   \n",
       "6                                  -0.0683523   \n",
       "7  (0.22951036030091065, 0.23539879459768612)   \n",
       "8   (0.20982986767485823, 0.5207215992198928)   \n",
       "\n",
       "                                        test  \n",
       "0                                      0.486  \n",
       "1                                   0.452055  \n",
       "2                                   0.684746  \n",
       "3                                   0.471545  \n",
       "4                                   0.662338  \n",
       "5                                   0.669492  \n",
       "6                                  0.0597402  \n",
       "7     (0.25151598676957, 0.2564189898671709)  \n",
       "8  (0.24434638720353005, 0.5895127875410773)  "
      ]
     },
     "execution_count": 70,
     "metadata": {},
     "output_type": "execute_result"
    }
   ],
   "source": [
    "results"
   ]
  },
  {
   "cell_type": "code",
   "execution_count": 71,
   "metadata": {},
   "outputs": [],
   "source": [
    "results.to_csv(\"results.csv\", sep=\"\\t\")"
   ]
  }
 ],
 "metadata": {
  "kernelspec": {
   "display_name": "Python 3",
   "language": "python",
   "name": "python3"
  },
  "language_info": {
   "codemirror_mode": {
    "name": "ipython",
    "version": 3
   },
   "file_extension": ".py",
   "mimetype": "text/x-python",
   "name": "python",
   "nbconvert_exporter": "python",
   "pygments_lexer": "ipython3",
   "version": "3.7.3"
  }
 },
 "nbformat": 4,
 "nbformat_minor": 2
}
