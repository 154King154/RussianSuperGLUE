{
  "nbformat": 4,
  "nbformat_minor": 0,
  "metadata": {
    "colab": {
      "name": "Russian SuperGLUE example.ipynb",
      "provenance": [],
      "collapsed_sections": []
    },
    "kernelspec": {
      "name": "python3",
      "display_name": "Python 3"
    },
    "accelerator": "GPU"
  },
  "cells": [
    {
      "cell_type": "code",
      "metadata": {
        "id": "uu9C3-LgY-zx",
        "colab_type": "code",
        "colab": {}
      },
      "source": [
        "import pandas as pd\n",
        "import re\n",
        "import numpy\n",
        "import os\n",
        "#!pip install transformers allennlp\n",
        "#!pip install jsondiff\n",
        "#!pip install pyhocon\n",
        "#!pip install python-Levenshtein"
      ],
      "execution_count": 0,
      "outputs": []
    },
    {
      "cell_type": "markdown",
      "metadata": {
        "id": "9WtjPCJAckV8",
        "colab_type": "text"
      },
      "source": [
        "**Пример запуска baseline модели для Russian-SUPERGlue**\n",
        "\n"
      ]
    },
    {
      "cell_type": "code",
      "metadata": {
        "id": "81SBfVUmZB7u",
        "colab_type": "code",
        "colab": {}
      },
      "source": [
        "#!unzip jiant-russian.zip\n",
        "os.chdir('./jiant-russian/')"
      ],
      "execution_count": 0,
      "outputs": []
    },
    {
      "cell_type": "markdown",
      "metadata": {
        "id": "DP1fs9zdfaij",
        "colab_type": "text"
      },
      "source": [
        "**Настройка config'а**\n",
        "\n",
        "\n",
        "Для работы pipelin'а необходимо указать путь к данным и путь для сохранения модели в  `user_config.sh`:\n",
        "\n",
        "1) `export JIANT_DATA_DIR=./combined/` - путь к данным для тасков. По умолчанию указана папка `combined`, которую необходимо поместить в корневую директорию.\n",
        "\n",
        "2) `export JIANT_PROJECT_PREFIX=./model_dir/` - путь, где сохраняются модели, логи, результаты предсказания. По умолчанию указана `./model_dir/`.\n",
        "\n",
        "Параметры, специфичные для модели и параметры обучения указываются в конфиге модели: `jiant/config/superglue_bert.conf`. \n",
        "\n",
        "\n",
        "Например, там задается:\n",
        "\n",
        " `input_module` - используемая бертовская модель (по умолчанию `\"DeepPavlov/rubert-base-cased-conversational\"`)\n",
        "\n",
        " `exp_name` - короткое название модели, по умолчанию `rubert`\n",
        "\n",
        " `max_val, max_epochs, learning_rate` и другие.\n",
        "\n",
        "\n",
        "\n",
        "\n",
        "**Данные** \n",
        "\n",
        "Данные можно скачать с сайта [RussianGLUE](https://russiansuperglue.com/tasks/). По [ссылке](https://russiansuperglue.com/tasks/download) можно скачать данные для всех таксков разом. Дальше достаточно будет разархивировать архив и указать путь к нему в качестве `export JIANT_PROJECT_PREFIX=` в конфиге.\n",
        "\n",
        "**Структура данных**\n",
        "\n",
        "Данные для каждого из заданий должны лежать в подпапке с аналогичным названием в `export JIANT_PROJECT_PREFIX=` (в [общем архиве с данными](https://russiansuperglue.com/tasks/download) как раз такая струтура): \n",
        "\n",
        "1) DaNetQa\n",
        "\n",
        "2) LiDiRus\n",
        "\n",
        "3) MuSeRC\n",
        "\n",
        "4) PARus\n",
        "\n",
        "5) RCB\n",
        "\n",
        "6) RuCoS\n",
        "\n",
        "7) RUSSE\n",
        "\n",
        "8) RWSD\n",
        "\n",
        "9) TERRa\n",
        "\n",
        "Для запуска всех тасков кроме диагностического LiDiRus в папке должны находиться `train.jsonl, val.jsonl, test.jsonl`. Для LiDiRus в соответствующую папку надо положить `LiDiRus.jsonl`.\n",
        "\n"
      ]
    },
    {
      "cell_type": "markdown",
      "metadata": {
        "id": "l0vzVwEdDN7d",
        "colab_type": "text"
      },
      "source": [
        "**Запуск baseline**\n",
        "\n",
        "Запуска baselin'ов осуществляется с помощью скрипта `./scripts/russian-superglue-baselines.sh`. Для обучения модели и получения предсказаний необходимо запустить скрипт с указанием необходимого таска (предсказания для диагностического `LiDiRus` вычисляются при обучении на TERRa, то есть при запуске terra модель делает предсказания как для terra_test, так и для lidirus.\n",
        "\n",
        "\n",
        "**Usage:**\n",
        "```\n",
        "   ./scripts/superglue-baselines.sh ${TASK} ${GPU_ID} ${SEED}\n",
        "   - TASK: one of {\"danetqa\", \"rcb\", \"parus\", \"muserc\", \"rucos\", \"terra\", \"russe\", \"rwsd\"},\n",
        "\n",
        "   - GPU_ID: GPU to use, or -1 for CPU. Defaults to 0.\n",
        "   - SEED: random seed. Defaults to 111.\n",
        "```\n",
        "\n",
        "\n",
        "Ниже приведен пример базового запуска для задания `TERRa`."
      ]
    },
    {
      "cell_type": "code",
      "metadata": {
        "id": "BVwaqEzyZMTO",
        "colab_type": "code",
        "colab": {}
      },
      "source": [
        "!chmod 755 ./scripts/russian-superglue-baselines.sh \n",
        "! ./scripts/russian-superglue-baselines.sh \"terra\""
      ],
      "execution_count": 0,
      "outputs": []
    },
    {
      "cell_type": "markdown",
      "metadata": {
        "id": "WRHu4aNSFrSy",
        "colab_type": "text"
      },
      "source": [
        "**Results**\n",
        "\n",
        "Результаты сохраняются в `model_dir/exp_name/task_name`. \n",
        "\n",
        "Скоры модели на валидации по всем отработанным таскам записываются в `model_dir/exp_name/results.tsv`. \n"
      ]
    },
    {
      "cell_type": "code",
      "metadata": {
        "id": "Ep3uiYoIEUO9",
        "colab_type": "code",
        "colab": {
          "base_uri": "https://localhost:8080/",
          "height": 54
        },
        "outputId": "0093ecc1-5a28-487e-c9e0-22659417282a"
      },
      "source": [
        "#TERRa results\n",
        "print(open('./model_dir/rubert/results.tsv').readlines()[-1])"
      ],
      "execution_count": 17,
      "outputs": [
        {
          "output_type": "stream",
          "text": [
            "terra\tmicro_avg: 0.658, macro_avg: 0.658, terra_accuracy: 0.658\n",
            "\n"
          ],
          "name": "stdout"
        }
      ]
    },
    {
      "cell_type": "code",
      "metadata": {
        "id": "fEaFbsarEYm0",
        "colab_type": "code",
        "colab": {
          "base_uri": "https://localhost:8080/",
          "height": 74
        },
        "outputId": "abbe97cd-4296-4781-b337-3b0070c927f1"
      },
      "source": [
        "#LiDiRus results\n",
        "print(open('./model_dir/rubert/results.tsv').readlines()[0])"
      ],
      "execution_count": 18,
      "outputs": [
        {
          "output_type": "stream",
          "text": [
            "terra\tmicro_avg: 0.000, macro_avg: 0.000, lidirus_lex_sem: -0.067, lidirus_lex_sem__Redundancy: 0.060, lidirus_lex_sem__Symmetry/Collectivity: 0.175, lidirus_lex_sem__Named entities: -0.169, lidirus_lex_sem__Lexical entailment;Quantifiers: 0.000, lidirus_lex_sem__Lexical entailment: -0.030, lidirus_lex_sem__Quantifiers: -0.219, lidirus_lex_sem__Lexical entailment;Factivity: 0.000, lidirus_lex_sem__Factivity;Quantifiers: 0.000, lidirus_lex_sem__Factivity: 0.043, lidirus_pr_ar_str: -0.152, lidirus_pr_ar_str__Intersectivity;Ellipsis/Implicits: 0.000, lidirus_pr_ar_str__Coordination scope;Prepositional phrases: 0.000, lidirus_pr_ar_str__Coordination scope: 0.000, lidirus_pr_ar_str__Active/Passive;Prepositional phrases: 0.000, lidirus_pr_ar_str__Core args: 0.065, lidirus_pr_ar_str__Active/Passive: -0.333, lidirus_pr_ar_str__Restrictivity;Anaphora/Coreference: 0.000, lidirus_pr_ar_str__Genitives/Partitives: 0.000, lidirus_pr_ar_str__Relative clauses;Restrictivity: 0.000, lidirus_pr_ar_str__Anaphora/Coreference;Prepositional phrases: 0.000, lidirus_pr_ar_str__Ellipsis/Implicits;Anaphora/Coreference: 0.000, lidirus_pr_ar_str__Relative clauses: 0.000, lidirus_pr_ar_str__Restrictivity;Relative clauses: 0.000, lidirus_pr_ar_str__Nominalization: 0.000, lidirus_pr_ar_str__Datives: -0.509, lidirus_pr_ar_str__Ellipsis/Implicits: 0.000, lidirus_pr_ar_str__Core args;Anaphora/Coreference: -0.333, lidirus_pr_ar_str__Relative clauses;Anaphora/Coreference: 0.000, lidirus_pr_ar_str__Anaphora/Coreference: -0.218, lidirus_pr_ar_str__Nominalization;Genitives/Partitives: 0.000, lidirus_pr_ar_str__Restrictivity: 0.000, lidirus_pr_ar_str__Intersectivity: -0.054, lidirus_logic: -0.100, lidirus_logic__Conjunction;Negation: 0.000, lidirus_logic__Universal;Conjunction: 0.000, lidirus_logic__Non-monotone: 0.000, lidirus_logic__Disjunction;Conjunction: 0.000, lidirus_logic__Negation;Conditionals: 0.000, lidirus_logic__Negation: -0.077, lidirus_logic__Intervals/Numbers: 0.169, lidirus_logic__Double negation: -0.469, lidirus_logic__Downward monotone;Existential;Negation: 0.000, lidirus_logic__Disjunction;Non-monotone: 0.000, lidirus_logic__Intervals/Numbers;Non-monotone: 0.000, lidirus_logic__Downward monotone;Conditionals: 0.000, lidirus_logic__Temporal;Intervals/Numbers: 0.000, lidirus_logic__Disjunction;Conditionals;Negation: -1.000, lidirus_logic__Temporal: 0.061, lidirus_logic__Temporal;Conjunction: 0.000, lidirus_logic__Conditionals: 0.000, lidirus_logic__Double negation;Negation: 0.000, lidirus_logic__Disjunction;Negation: -0.200, lidirus_logic__Universal: -0.389, lidirus_logic__Downward monotone: 0.045, lidirus_logic__Existential;Negation: 0.000, lidirus_logic__Existential: -0.207, lidirus_logic__Universal;Negation: 0.000, lidirus_logic__Upward monotone: -0.067, lidirus_logic__Conjunction: 0.000, lidirus_logic__Existential;Upward monotone: 0.000, lidirus_logic__Disjunction: 0.262, lidirus_knowledge: -0.065, lidirus_knowledge__Common sense: -0.106, lidirus_all_mcc: -0.101, lidirus_accuracy: 0.545\n",
            "\n"
          ],
          "name": "stdout"
        }
      ]
    },
    {
      "cell_type": "code",
      "metadata": {
        "id": "8KYjfbq5FbnR",
        "colab_type": "code",
        "colab": {}
      },
      "source": [
        ""
      ],
      "execution_count": 0,
      "outputs": []
    }
  ]
}